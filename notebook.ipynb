{
 "cells": [
  {
   "cell_type": "code",
   "execution_count": 82,
   "metadata": {},
   "outputs": [
    {
     "name": "stderr",
     "output_type": "stream",
     "text": [
      "[nltk_data] Downloading package punkt to\n",
      "[nltk_data]     C:\\Users\\jzech\\AppData\\Roaming\\nltk_data...\n",
      "[nltk_data]   Package punkt is already up-to-date!\n"
     ]
    },
    {
     "name": "stdout",
     "output_type": "stream",
     "text": [
      "[]\n"
     ]
    }
   ],
   "source": [
    "from github import Github\n",
    "import pickle\n",
    "import requests\n",
    "from bs4 import BeautifulSoup\n",
    "import nltk\n",
    "from nltk.tokenize import sent_tokenize, word_tokenize\n",
    "nltk.download('punkt')\n",
    "\n",
    "access_token = '22228a29e7cb96ef8006f9b53f1795954017979c'\n",
    "client = Github(access_token, per_page=100)\n",
    "#https://www.msn.com/en-us/news/world/putin-russia-knows-mueller-probe-gave-birth-to-a-mouse/ar-BBVLtjG?ocid=spartanntp\n",
    "#https://www.msn.com/en-us/health/health-news/a-new-cancer-vaccine-uses-the-immune-system-to-take-out-tumors/ar-BBVLDdK?ocid=spartanntp\n",
    "r = requests.get('https://www.msn.com/en-us/news/world/putin-russia-knows-mueller-probe-gave-birth-to-a-mouse/ar-BBVLtjG?ocid=spartanntp')\n",
    "#javaRepo = client.get_repo('TheAlgorithms/Java')\n",
    "\n",
    "soup = BeautifulSoup(r.text, 'html5lib')\n",
    "#print(r.text)\n",
    "#print(soup.findAll('p'))\n",
    "#print(soup.prettify())\n",
    "paras = soup.findAll('p')\n",
    "#print(paras)\n",
    "paragraphs = []\n",
    "for para in paras:\n",
    "    paragraphs.append(para.text)\n",
    "\n",
    "#print(paragraphs)\n",
    "sentences = []\n",
    "for i in range (len(paragraphs)):\n",
    "    sentences.append(sent_tokenize(paragraphs[i]))\n",
    "#print(sentences)\n",
    "with open('sentences.pkl', 'wb') as f:\n",
    "    pickle.dump(sentences, f)\n",
    "with open('sentences.pkl', 'rb') as f:\n",
    "    pickled_sents = pickle.load(f)\n",
    "print(pickled_sents[0])\n",
    "\n",
    "#sentences = sent_tokenize(paragraphs[5])\n",
    "#print(sentences)\n",
    "#markdown = javaRepo.get_readme()\n",
    "#print(markdown)\n"
   ]
  },
  {
   "cell_type": "code",
   "execution_count": null,
   "metadata": {},
   "outputs": [],
   "source": []
  }
 ],
 "metadata": {
  "kernelspec": {
   "display_name": "Python 3 (Spyder)",
   "language": "python3",
   "name": "python3"
  },
  "language_info": {
   "codemirror_mode": {
    "name": "ipython",
    "version": 3
   },
   "file_extension": ".py",
   "mimetype": "text/x-python",
   "name": "python",
   "nbconvert_exporter": "python",
   "pygments_lexer": "ipython3",
   "version": "3.7.1"
  }
 },
 "nbformat": 4,
 "nbformat_minor": 2
}
